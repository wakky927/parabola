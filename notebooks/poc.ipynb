{
 "cells": [
  {
   "cell_type": "markdown",
   "metadata": {
    "collapsed": true,
    "pycharm": {
     "name": "#%% md\n"
    }
   },
   "source": [
    "### PoC of evaluation with parabola fitting\n",
    "- マスク画像の作成時に二次曲線を用いた分類問題を扱った\n",
    "- 放物線としてそれを利用し, 焦点または準線に用いられるpの値で評価が行えるか\n",
    "- 簡単にまずは係数aについて考えるのもあり？"
   ]
  },
  {
   "cell_type": "markdown",
   "source": [
    "#### TODO\n",
    "- get p\n",
    "    - read mask img\n",
    "    - detect boundary\n",
    "    - parabola fitting\n",
    "- summarize result\n",
    "- visualize result\n"
   ],
   "metadata": {
    "collapsed": false,
    "pycharm": {
     "name": "#%% md\n"
    }
   }
  },
  {
   "cell_type": "markdown",
   "source": [
    "#### PROGRAM"
   ],
   "metadata": {
    "collapsed": false
   }
  },
  {
   "cell_type": "markdown",
   "source": [
    "- import library\n",
    "    - matplotlib\n",
    "    - numpy\n",
    "    - pandas\n",
    "    - python-opencv\n",
    "    - scipy\n",
    "    - tqdm"
   ],
   "metadata": {
    "collapsed": false
   }
  },
  {
   "cell_type": "code",
   "execution_count": 1,
   "outputs": [],
   "source": [
    "import cv2\n",
    "import matplotlib as mpl\n",
    "import matplotlib.pyplot as plt\n",
    "import numpy as np\n",
    "from scipy.optimize import curve_fit\n",
    "from tqdm import tqdm"
   ],
   "metadata": {
    "collapsed": false,
    "pycharm": {
     "name": "#%%\n"
    }
   }
  },
  {
   "cell_type": "markdown",
   "source": [
    "- get p"
   ],
   "metadata": {
    "collapsed": false
   }
  },
  {
   "cell_type": "code",
   "execution_count": 2,
   "outputs": [],
   "source": [
    "# set params\n",
    "U = [175, 200, 225, 250]\n",
    "Q = [215, 304, 429]\n",
    "D = [18, 24, 30]\n",
    "\n",
    "# set dir\n",
    "BINARY_DIR = '../data/binary/'\n",
    "BOUNDARY_DIR = '../data/boundary/'\n"
   ],
   "metadata": {
    "collapsed": false,
    "pycharm": {
     "name": "#%%\n"
    }
   }
  },
  {
   "cell_type": "code",
   "execution_count": 3,
   "outputs": [],
   "source": [
    "def detect_boundary(img, hei, wid, t=5):\n",
    "    data = np.zeros((hei, 5))  # [index, start, end, flag, flag]\n",
    "\n",
    "    # detection boundary\n",
    "    for j in range(hei):\n",
    "        data[j][0] = j  # index\n",
    "\n",
    "        # detection from left side\n",
    "        for i in range(wid - t):\n",
    "            if np.all(img[j][i:i + t] == 255):\n",
    "                data[j][1] = i\n",
    "                data[j][3] = 1\n",
    "\n",
    "                break\n",
    "\n",
    "        # detection from right side\n",
    "        if j > 700:\n",
    "            for i in reversed(range(t, wid)):\n",
    "                if np.all(img[j][i - t:i] == 255):\n",
    "                    data[j][2] = i\n",
    "\n",
    "                    if i > 1200:\n",
    "                        data[j][4] = 0\n",
    "                    else:\n",
    "                        data[j][4] = 1\n",
    "\n",
    "                    break\n",
    "\n",
    "    return data\n"
   ],
   "metadata": {
    "collapsed": false,
    "pycharm": {
     "name": "#%%\n"
    }
   }
  },
  {
   "cell_type": "code",
   "execution_count": 4,
   "outputs": [],
   "source": [
    "def model_func(x, *params):\n",
    "    y = np.zeros_like(x)\n",
    "\n",
    "    for i, param in enumerate(params):\n",
    "        y += np.array(param * x ** i)\n",
    "\n",
    "    return y"
   ],
   "metadata": {
    "collapsed": false,
    "pycharm": {
     "name": "#%%\n"
    }
   }
  },
  {
   "cell_type": "code",
   "execution_count": 5,
   "outputs": [],
   "source": [
    "def fitting(data):\n",
    "    a = np.zeros(1)\n",
    "    b = np.zeros(1)\n",
    "\n",
    "    for i in range(data.shape[0]):\n",
    "        # left boundary\n",
    "        if data[i, 3] == 1:\n",
    "            a = np.append(a, data[i, 0])\n",
    "            b = np.append(b, data[i, 1])\n",
    "\n",
    "        # right boundary\n",
    "        if data[i, 4] == 1:\n",
    "            a = np.append(a, data[i, 0])\n",
    "            b = np.append(b, data[i, 2])\n",
    "\n",
    "    popt, pcov = curve_fit(model_func, b[1:], a[1:], p0=[1, 1, 1])\n",
    "\n",
    "    return popt, pcov, a, b"
   ],
   "metadata": {
    "collapsed": false,
    "pycharm": {
     "name": "#%%\n"
    }
   }
  },
  {
   "cell_type": "code",
   "execution_count": 6,
   "outputs": [],
   "source": [
    "bin_img = cv2.imread(BINARY_DIR + f'b_u_{175}_q_{215}_d_{18}_ppm_0.bmp', 0)"
   ],
   "metadata": {
    "collapsed": false,
    "pycharm": {
     "name": "#%%\n"
    }
   }
  },
  {
   "cell_type": "code",
   "execution_count": 7,
   "outputs": [],
   "source": [
    "boundary = detect_boundary(img=bin_img, hei=1024, wid=1280)"
   ],
   "metadata": {
    "collapsed": false,
    "pycharm": {
     "name": "#%%\n"
    }
   }
  },
  {
   "cell_type": "code",
   "execution_count": 8,
   "outputs": [],
   "source": [
    "popt, pcov, a, b = fitting(boundary)"
   ],
   "metadata": {
    "collapsed": false,
    "pycharm": {
     "name": "#%%\n"
    }
   }
  },
  {
   "cell_type": "code",
   "execution_count": 9,
   "outputs": [],
   "source": [
    "length = 10\n",
    "x1 = 505\n",
    "y1 = 447\n",
    "x2 = 506\n",
    "y2 = 530\n",
    "\n",
    "z = 10 / np.sqrt((x1 - x2)**2 + (y1 - y2)**2)\n",
    "\n",
    "x = np.linspace(0, 1280-1, 1280)\n",
    "y = popt[0] + popt[1] * x + popt[2] * x ** 2\n",
    "X = x + popt[1] / popt[2] / 2\n",
    "Y = y + (popt[1]**2 - 4 * popt[2] * popt[0]) / popt[2] / 4\n",
    "A = a + popt[1] / popt[2] / 2\n",
    "B = b + (popt[1]**2 - 4 * popt[2] * popt[0]) / popt[2] / 4\n",
    "\n",
    "x *= z\n",
    "y *= z\n",
    "X *= z\n",
    "Y *= -z\n",
    "A *= -z\n",
    "B *= z\n",
    "\n",
    "m = 4000\n",
    "theta_original = np.linspace(0, 2*np.pi, 1001)\n",
    "theta = np.append(theta_original[1:500], theta_original[501:-1])\n",
    "\n",
    "r = m * (np.pi - theta) / 175 / np.sin(theta)"
   ],
   "metadata": {
    "collapsed": false,
    "pycharm": {
     "name": "#%%\n"
    }
   }
  },
  {
   "cell_type": "code",
   "execution_count": 10,
   "outputs": [
    {
     "data": {
      "text/plain": "<Figure size 864x720 with 1 Axes>",
      "image/png": "[encoded data removed]"
     },
     "metadata": {
      "needs_background": "dark"
     },
     "output_type": "display_data"
    }
   ],
   "source": [
    "fig, ax = plt.subplots(figsize=(12, 10))\n",
    "ax.xaxis.label.set_color('w')\n",
    "ax.yaxis.label.set_color('w')\n",
    "ax.tick_params(axis='x', colors='w')\n",
    "ax.tick_params(axis='y', colors='w')\n",
    "plt.xlabel('$\\it{x}$ [mm]', fontsize=28)\n",
    "plt.ylabel('$\\it{y}$ [mm]', fontsize=28)\n",
    "plt.xticks(fontsize=24)\n",
    "plt.yticks(fontsize=24)\n",
    "plt.xlim(0, 1280*z)\n",
    "plt.ylim(1024*z, 0)\n",
    "plt.grid()\n",
    "\n",
    "plt.plot(x, y, color='red', linewidth=3)\n",
    "plt.show()"
   ],
   "metadata": {
    "collapsed": false,
    "pycharm": {
     "name": "#%%\n"
    }
   }
  },
  {
   "cell_type": "code",
   "execution_count": 11,
   "outputs": [
    {
     "data": {
      "text/plain": "<Figure size 864x720 with 1 Axes>",
      "image/png": "[encoded data removed]"
     },
     "metadata": {
      "needs_background": "dark"
     },
     "output_type": "display_data"
    }
   ],
   "source": [
    "fig, ax = plt.subplots(figsize=(12, 10))\n",
    "ax.xaxis.label.set_color('w')\n",
    "ax.yaxis.label.set_color('w')\n",
    "ax.tick_params(axis='x', colors='w')\n",
    "ax.tick_params(axis='y', colors='w')\n",
    "plt.xlabel('$\\it{x}$ [mm]', fontsize=28)\n",
    "plt.ylabel('$\\it{y}$ [mm]', fontsize=28)\n",
    "plt.xticks(fontsize=24)\n",
    "plt.yticks(fontsize=24)\n",
    "plt.xlim(-100, 100)\n",
    "plt.ylim(-1, 120)\n",
    "plt.grid()\n",
    "\n",
    "plt.plot(X, Y, color='r', linewidth=3)\n",
    "plt.plot(r * np.sin(theta), r * np.cos(theta) + m / 175, color='b', linewidth=3)\n",
    "\n",
    "plt.scatter(B[1:], A[1:], c='g')\n",
    "plt.show()"
   ],
   "metadata": {
    "collapsed": false,
    "pycharm": {
     "name": "#%%\n"
    }
   }
  },
  {
   "cell_type": "code",
   "execution_count": 12,
   "outputs": [
    {
     "name": "stderr",
     "output_type": "stream",
     "text": [
      " 25%|██▌       | 1/4 [00:24<01:13, 24.66s/it]\n",
      "\n",
      "KeyboardInterrupt\n",
      "\n"
     ]
    }
   ],
   "source": [
    "a_list = np.zeros(0)\n",
    "\n",
    "# get a\n",
    "for u in tqdm(U):\n",
    "    for q in Q:\n",
    "        for d in D:\n",
    "            # read mask img\n",
    "            bin_img = cv2.imread(BINARY_DIR + f'b_u_{u}_q_{q}_d_{d}_ppm_0.bmp', 0)\n",
    "\n",
    "            # detect boundary\n",
    "            boundary = detect_boundary(img=bin_img, hei=1024, wid=1280)\n",
    "\n",
    "            # parabola fitting\n",
    "            popt, pcov, _, _ = fitting(boundary)\n",
    "\n",
    "            a_list = np.append(a_list, popt[2] / z)\n"
   ],
   "metadata": {
    "collapsed": false,
    "pycharm": {
     "name": "#%%\n"
    }
   }
  },
  {
   "cell_type": "code",
   "execution_count": null,
   "outputs": [],
   "source": [
    "a_list *= -1"
   ],
   "metadata": {
    "collapsed": false,
    "pycharm": {
     "name": "#%%\n"
    }
   }
  },
  {
   "cell_type": "code",
   "execution_count": null,
   "outputs": [],
   "source": [
    "fig, ax = plt.subplots(figsize=(10, 10))\n",
    "ax.xaxis.label.set_color('w')\n",
    "ax.yaxis.label.set_color('w')\n",
    "ax.tick_params(axis='x', colors='w')\n",
    "ax.tick_params(axis='y', colors='w')\n",
    "plt.xlabel('$\\it{U}$ [mm/s]', fontsize=32)\n",
    "plt.ylabel('$\\it{a}$ [mm$^{-1}$]', fontsize=32)\n",
    "plt.xticks(fontsize=32)\n",
    "plt.yticks(fontsize=32)\n",
    "ax.xaxis.set_major_locator(mpl.ticker.MultipleLocator(25))\n",
    "plt.grid(zorder=9)\n",
    "\n",
    "# q = 215\n",
    "plt.scatter(175, a_list[0], s=400, marker=',', color='b', zorder=10)\n",
    "plt.scatter(200, a_list[9], s=400, marker=',', color='b', zorder=10)\n",
    "plt.scatter(225, a_list[18], s=400, marker=',', color='b', zorder=10)\n",
    "plt.scatter(250, a_list[27], s=400, marker=',', color='b', zorder=10)\n",
    "\n",
    "# q = 304\n",
    "plt.scatter(175, a_list[3], s=400, marker='o', color='g', zorder=10)\n",
    "plt.scatter(200, a_list[12], s=400, marker='o', color='g', zorder=10)\n",
    "plt.scatter(225, a_list[21], s=400, marker='o', color='g', zorder=10)\n",
    "plt.scatter(250, a_list[30], s=400, marker='o', color='g', zorder=10)\n",
    "\n",
    "# q = 429\n",
    "plt.scatter(175, a_list[6], s=400, marker='^', color='r', zorder=10)\n",
    "plt.scatter(200, a_list[15], s=400, marker='^', color='r', zorder=10)\n",
    "plt.scatter(225, a_list[24], s=400, marker='^', color='r', zorder=10)\n",
    "plt.scatter(250, a_list[33], s=400, marker='^', color='r', zorder=10)\n",
    "\n",
    "plt.show()"
   ],
   "metadata": {
    "collapsed": false,
    "pycharm": {
     "name": "#%%\n"
    }
   }
  },
  {
   "cell_type": "code",
   "execution_count": null,
   "outputs": [],
   "source": [
    "fig, ax = plt.subplots(figsize=(10, 10))\n",
    "ax.xaxis.label.set_color('w')\n",
    "ax.yaxis.label.set_color('w')\n",
    "ax.tick_params(axis='x', colors='w')\n",
    "ax.tick_params(axis='y', colors='w')\n",
    "plt.xlabel('$\\it{U}$ [mm/s]', fontsize=32)\n",
    "plt.ylabel('$\\it{a}$ [mm$^{-1}$]', fontsize=32)\n",
    "plt.xticks(fontsize=32)\n",
    "plt.yticks(fontsize=32)\n",
    "ax.xaxis.set_major_locator(mpl.ticker.MultipleLocator(25))\n",
    "plt.grid(zorder=9)\n",
    "\n",
    "# q = 215\n",
    "plt.scatter(175, a_list[1], s=400, marker=',', color='b', zorder=10)\n",
    "plt.scatter(200, a_list[10], s=400, marker=',', color='b', zorder=10)\n",
    "plt.scatter(225, a_list[19], s=400, marker=',', color='b', zorder=10)\n",
    "plt.scatter(250, a_list[28], s=400, marker=',', color='b', zorder=10)\n",
    "\n",
    "# q = 304\n",
    "plt.scatter(175, a_list[4], s=400, marker='o', color='g', zorder=10)\n",
    "plt.scatter(200, a_list[13], s=400, marker='o', color='g', zorder=10)\n",
    "plt.scatter(225, a_list[22], s=400, marker='o', color='g', zorder=10)\n",
    "plt.scatter(250, a_list[31], s=400, marker='o', color='g', zorder=10)\n",
    "\n",
    "# q = 429\n",
    "plt.scatter(175, a_list[7], s=400, marker='^', color='r', zorder=10)\n",
    "plt.scatter(200, a_list[16], s=400, marker='^', color='r', zorder=10)\n",
    "plt.scatter(225, a_list[25], s=400, marker='^', color='r', zorder=10)\n",
    "plt.scatter(250, a_list[34], s=400, marker='^', color='r', zorder=10)\n",
    "\n",
    "plt.show()"
   ],
   "metadata": {
    "collapsed": false,
    "pycharm": {
     "name": "#%%\n"
    }
   }
  },
  {
   "cell_type": "code",
   "execution_count": null,
   "outputs": [],
   "source": [
    "fig, ax = plt.subplots(figsize=(10, 10))\n",
    "ax.xaxis.label.set_color('w')\n",
    "ax.yaxis.label.set_color('w')\n",
    "ax.tick_params(axis='x', colors='w')\n",
    "ax.tick_params(axis='y', colors='w')\n",
    "plt.xlabel('$\\it{U}$ [mm/s]', fontsize=32)\n",
    "plt.ylabel('$\\it{a}$ [mm$^{-1}$]', fontsize=32)\n",
    "plt.xticks(fontsize=32)\n",
    "plt.yticks(fontsize=32)\n",
    "ax.xaxis.set_major_locator(mpl.ticker.MultipleLocator(25))\n",
    "plt.grid(zorder=9)\n",
    "\n",
    "# q = 215\n",
    "plt.scatter(175, a_list[2], s=400, marker=',', color='b', zorder=10)\n",
    "plt.scatter(200, a_list[11], s=400, marker=',', color='b', zorder=10)\n",
    "plt.scatter(225, a_list[20], s=400, marker=',', color='b', zorder=10)\n",
    "plt.scatter(250, a_list[29], s=400, marker=',', color='b', zorder=10)\n",
    "\n",
    "# q = 304\n",
    "plt.scatter(175, a_list[5], s=400, marker='o', color='g', zorder=10)\n",
    "plt.scatter(200, a_list[14], s=400, marker='o', color='g', zorder=10)\n",
    "plt.scatter(225, a_list[23], s=400, marker='o', color='g', zorder=10)\n",
    "plt.scatter(250, a_list[32], s=400, marker='o', color='g', zorder=10)\n",
    "\n",
    "# q = 429\n",
    "plt.scatter(175, a_list[8], s=400, marker='^', color='r', zorder=10)\n",
    "plt.scatter(200, a_list[17], s=400, marker='^', color='r', zorder=10)\n",
    "plt.scatter(225, a_list[26], s=400, marker='^', color='r', zorder=10)\n",
    "plt.scatter(250, a_list[35], s=400, marker='^', color='r', zorder=10)\n",
    "\n",
    "plt.show()\n",
    "\n"
   ],
   "metadata": {
    "collapsed": false,
    "pycharm": {
     "name": "#%%\n"
    }
   }
  },
  {
   "cell_type": "code",
   "execution_count": null,
   "outputs": [],
   "source": [],
   "metadata": {
    "collapsed": false,
    "pycharm": {
     "name": "#%%\n"
    }
   }
  }
 ],
 "metadata": {
  "kernelspec": {
   "display_name": "Python 3",
   "language": "python",
   "name": "python3"
  },
  "language_info": {
   "codemirror_mode": {
    "name": "ipython",
    "version": 2
   },
   "file_extension": ".py",
   "mimetype": "text/x-python",
   "name": "python",
   "nbconvert_exporter": "python",
   "pygments_lexer": "ipython2",
   "version": "2.7.6"
  }
 },
 "nbformat": 4,
 "nbformat_minor": 0
}